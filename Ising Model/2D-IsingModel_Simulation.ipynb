{
 "cells": [
  {
   "cell_type": "code",
   "execution_count": 1,
   "id": "a6b04db7",
   "metadata": {},
   "outputs": [
    {
     "name": "stdout",
     "output_type": "stream",
     "text": [
      "Requirement already satisfied: PythonTurtle in c:\\users\\ssinh\\miniconda3\\lib\\site-packages (0.3.2)\n"
     ]
    },
    {
     "name": "stderr",
     "output_type": "stream",
     "text": [
      "WARNING: Ignoring invalid distribution -tkinter-pymol (c:\\users\\ssinh\\miniconda3\\dlls)\n",
      "WARNING: Ignoring invalid distribution -tkinter-pymol (c:\\users\\ssinh\\miniconda3\\dlls)\n",
      "WARNING: Ignoring invalid distribution -tkinter-pymol (c:\\users\\ssinh\\miniconda3\\dlls)\n",
      "WARNING: Ignoring invalid distribution -tkinter-pymol (c:\\users\\ssinh\\miniconda3\\dlls)\n",
      "WARNING: Ignoring invalid distribution -tkinter-pymol (c:\\users\\ssinh\\miniconda3\\dlls)\n",
      "WARNING: Ignoring invalid distribution -tkinter-pymol (c:\\users\\ssinh\\miniconda3\\dlls)\n"
     ]
    }
   ],
   "source": [
    "!pip install PythonTurtle"
   ]
  },
  {
   "cell_type": "code",
   "execution_count": 2,
   "id": "03f72e5f",
   "metadata": {},
   "outputs": [],
   "source": [
    "import numpy as np\n",
    "import turtle"
   ]
  },
  {
   "cell_type": "code",
   "execution_count": 3,
   "id": "b6c94660",
   "metadata": {},
   "outputs": [],
   "source": [
    "class IsingSpins:\n",
    "    def __init__(self, size, temperature):\n",
    "        self.Size = size\n",
    "        self.Temperature = temperature\n",
    "        self.spins = np.random.choice([-1, 1], size=(size, size))\n",
    "        self.displaySize = 800 / size \n",
    "\n",
    "    def Spin(self, row, col):\n",
    "        return self.spins[row, col]\n",
    "\n",
    "    def Index(self, index):\n",
    "        return (index + self.Size) % self.Size\n",
    "\n",
    "    def Neighbor(self, row, col):\n",
    "        return self.Spin(self.Index(row), self.Index(col))\n",
    "\n",
    "    def NeighborContribution(self, row, col):\n",
    "        return (self.Neighbor(row - 1, col) + self.Neighbor(row + 1, col) +\n",
    "                self.Neighbor(row, col - 1) + self.Neighbor(row, col + 1))\n",
    "\n",
    "    def ExpMinusBetaE(self, E):\n",
    "        return np.exp(-1. / self.Temperature * E)\n",
    "\n",
    "    def EnergyDifForFlip(self, row, col):\n",
    "        return 2 * self.Spin(row, col) * self.NeighborContribution(row, col)\n",
    "\n",
    "    def Sweep(self):\n",
    "        for _ in range(self.Size * self.Size):\n",
    "            row = np.random.randint(self.Size)\n",
    "            col = np.random.randint(self.Size)\n",
    "            energyDif = self.EnergyDifForFlip(row, col)\n",
    "            \n",
    "            if energyDif < 0 or np.random.random() < self.ExpMinusBetaE(energyDif):\n",
    "                self.spins[row, col] *= -1\n",
    "\n",
    "    def Display(self):\n",
    "        turtle.clear()\n",
    "        turtle.speed(0)\n",
    "        \n",
    "        for i in range(self.Size):\n",
    "            for j in range(self.Size):\n",
    "                x = i * self.displaySize - (self.Size * self.displaySize) / 2\n",
    "                y = j * self.displaySize - (self.Size * self.displaySize) / 2\n",
    "                color = \"red\" if self.Spin(i, j) < 0 else \"blue\"\n",
    "                turtle.penup()\n",
    "                turtle.goto(x, y)\n",
    "                turtle.pendown()\n",
    "                turtle.color(color)\n",
    "                turtle.begin_fill()\n",
    "                for _ in range(4):\n",
    "                    turtle.forward(self.displaySize)\n",
    "                    turtle.right(90)\n",
    "                turtle.end_fill()\n",
    "        \n",
    "        turtle.update()"
   ]
  },
  {
   "cell_type": "code",
   "execution_count": 4,
   "id": "2ac62c77",
   "metadata": {},
   "outputs": [],
   "source": [
    "size = 64\n",
    "temperature = 2.26918531421 / 0.95  # somewhere near the critical temperature\n",
    "isingSpins = IsingSpins(size, temperature)"
   ]
  },
  {
   "cell_type": "code",
   "execution_count": 5,
   "id": "6581faa2",
   "metadata": {},
   "outputs": [],
   "source": [
    "def monteCarlo():\n",
    "    isingSpins.Sweep()\n",
    "    isingSpins.Display()\n",
    "\n",
    "screen = turtle.Screen()\n",
    "screen.title(\"Ising Model Simulation\")\n",
    "screen.bgcolor(\"white\")\n",
    "turtle.speed(0)\n",
    "turtle.hideturtle()\n",
    "turtle.tracer(0, 0)\n",
    "\n",
    "running = True\n",
    "\n",
    "def stop_simulation(x, y):\n",
    "    global running\n",
    "    running = False\n",
    "    \n",
    "screen.onclick(stop_simulation)\n",
    "\n",
    "# Simulate\n",
    "while running:  # Loop while running is True\n",
    "    monteCarlo()\n",
    "    turtle.update() \n",
    "\n",
    "# Close the screen on click\n",
    "screen.exitonclick()"
   ]
  },
  {
   "cell_type": "code",
   "execution_count": null,
   "id": "c81df351",
   "metadata": {},
   "outputs": [],
   "source": []
  }
 ],
 "metadata": {
  "kernelspec": {
   "display_name": "Python 3 (ipykernel)",
   "language": "python",
   "name": "python3"
  },
  "language_info": {
   "codemirror_mode": {
    "name": "ipython",
    "version": 3
   },
   "file_extension": ".py",
   "mimetype": "text/x-python",
   "name": "python",
   "nbconvert_exporter": "python",
   "pygments_lexer": "ipython3",
   "version": "3.9.12"
  }
 },
 "nbformat": 4,
 "nbformat_minor": 5
}
