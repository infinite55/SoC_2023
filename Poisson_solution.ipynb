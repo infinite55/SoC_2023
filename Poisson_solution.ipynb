{
 "cells": [
  {
   "cell_type": "markdown",
   "id": "efabd2a1",
   "metadata": {},
   "source": [
    "# Solving Poisson's Equation Numerically using the Finite-Difference Method"
   ]
  },
  {
   "cell_type": "markdown",
   "id": "3731122b",
   "metadata": {},
   "source": [
    "The Finite Difference Method is a numerical technique used to solve a range of Ordinary and Partial Differential Equations. It involves approximating the derivatives in the differential equation using finite differences, allowing us to convert the differential equation into a system of algebraic equations. By discretizing the domain into a grid of points, we can solve these equations iteratively to obtain numerical solutions."
   ]
  },
  {
   "cell_type": "markdown",
   "id": "f04e5080",
   "metadata": {},
   "source": [
    "In the context of solving Poisson's equation, which relates the Laplacian of the electric potential to a given charge distribution, the Finite Difference Method provides an effective approach. By discretizing the domain and approximating the derivatives using finite differences, we can construct a system of algebraic equations that relates the electric potential at each grid point to its neighboring points."
   ]
  },
  {
   "cell_type": "markdown",
   "id": "df8f1f3a",
   "metadata": {},
   "source": [
    "To solve Poisson's equation numerically using the Finite Difference Method, we first discretize the domain into a grid, specifying the charge distribution and boundary conditions. Then, we construct an operator matrix that represents the discrete Laplacian operator. By solving the resulting system of linear equations, we obtain the electric potential at each grid point, allowing us to determine the potential at any desired location."
   ]
  },
  {
   "cell_type": "markdown",
   "id": "99d5e937",
   "metadata": {},
   "source": [
    "### Theory"
   ]
  },
  {
   "cell_type": "markdown",
   "id": "e6707a0d",
   "metadata": {},
   "source": [
    "Poisson's equation (in 3 dimensions) is \n",
    "$$\\nabla^2 U = -\\rho$$\n",
    "$$\\implies \\frac{\\partial^2 U(x, y, z)}{\\partial x^2} + \\frac{\\partial^2 U(x, y, z)}{\\partial y^2} + \\frac{\\partial^2 U(x, y, z)}{\\partial z^2} = -\\rho(x,y,z)$$\n",
    "\n",
    "Where $\\rho$ is the charge density at a point, and $U$ is the electric potential at a point. Both are scalar functions."
   ]
  },
  {
   "cell_type": "markdown",
   "id": "270e87df",
   "metadata": {},
   "source": [
    "Let's take Poisson's equation to be in 2 dimensions:\n",
    "\n",
    "$$\\frac{\\partial^2 U(x, y, z)}{\\partial x^2} + \\frac{\\partial^2 U(x, y, z)}{\\partial y^2} = -\\rho(x,y)$$\n",
    "\n",
    "We know that the partial derivative w.r.t. a variable of a multivariate function (i.e. a function dependent on multiple variables) is simply the change in the function w.r.t. change in _only_ this variable.\n",
    "\n",
    "We also know of the approximation to the derivative of a function in 1D (i.e. dependent on only one variable) is:\n",
    "\n",
    "$$f'(x) = \\frac{f(x + h/2) - f(x - h/2)}{h}$$\n",
    "\n",
    "We can derive an approximation to the second derivative using the approximation for the first derivative:\n",
    "\n",
    "$$f''(x) = \\frac{f'(x + h/2) - f'(x - h/2)}{h}$$\n",
    "$$= \\frac{(\\frac{f(x + h/2 + h/2) - f(x + h/2 - h/2)}{h}) - (\\frac{f(x - h/2 + h/2) - f(x - h/2 - h/2)}{h})}{h}$$\n",
    "$$=  \\frac{f(x + h) - 2f(x) + f(x - h)}{h^2}$$"
   ]
  },
  {
   "cell_type": "markdown",
   "id": "a824a6b9",
   "metadata": {},
   "source": [
    "**Approximation of second derivative** <br>\n",
    "Taylor expansion of f(x-h), f(x+h)\n",
    "$$f(x-h)=f(x)-hf'(x)+\\frac{h^{2}}{2!}f''(x)-.....$$  <br>\n",
    "$$f(x+h)=f(x)+hf'(x)+\\frac{h^{2}}{2!}f''(x)+.....$$  <br>\n",
    "gives $$f''(x)=  \\frac{f(x + h) - 2f(x) + f(x - h)}{h^2}$$"
   ]
  },
  {
   "cell_type": "markdown",
   "id": "093d98ea",
   "metadata": {},
   "source": [
    "**Discretization** <br>\n",
    "Let us assign the indices $(i, j)$ to the (discretized) coordinate $(x = i*h,y = j*h)$, where $i$ and $j$ are integers.\n",
    "\n",
    "Thus we can also denote $U(x = i*h, y = j*h)$ as $U_{ij}$. \n",
    "Also denote $h$ as $\\Delta i$.  \n",
    "In fact, if the coordinate grid is not of the same scale in the two axes i.e. $(x, y) = (i*h,j*k)$, then we write $h, k = \\Delta i, \\Delta j$.  \n",
    "\n",
    "For the charge distribution $\\rho$, we can discretize it by finding the average charge within a grid cell and taking that to be the value of $\\rho_{i,j}$."
   ]
  },
  {
   "cell_type": "markdown",
   "id": "388df2f9",
   "metadata": {},
   "source": [
    "Now, since the partial derivative of a function is essentially a 1D derivative over a particular variable, with all other variables appearing to be constant, we can write:\n",
    "\n",
    "$$\\frac{\\partial^{2}U(x,y)}{\\partial x^2} = \\frac{U(x + h, y) - 2U(x, y) + U(x - h, y)}{h^2}$$\n",
    "$$ = \\frac{1}{\\Delta i \\Delta j}( U_{i + 1, j} - 2U_{i,j} + U_{i - 1, j})$$\n",
    "\n",
    "Similarly,\n",
    "$$\\frac{\\partial^{2}U(x,y)}{\\partial y^2} = \\frac{1}{\\Delta i \\Delta j}( U_{i, j + 1} - 2U_{i,j} + U_{i, j - 1})$$\n",
    "\n",
    "Plugging these results into Poisson's equation gives us:\n",
    "\n",
    "$$U_{i + 1, j} + U_{i, j + 1} + U_{i - 1, j} + U_{i, j - 1} - 4U_{i,j} =-( \\Delta i \\Delta j) \\rho_{i,j}$$\n",
    "\n",
    "Which, as you can see, is an equation for $U_{i,j}$ given in terms of its neighboring points."
   ]
  },
  {
   "cell_type": "markdown",
   "id": "11465acf",
   "metadata": {},
   "source": [
    "To solve Poisson's equation, we aim to find the function U(x, y) that satisfies the equation given the specified charge distributions. By discretizing the coordinate space into a 10x10 grid(N=100), we can represent the equation as a system of linear equations. The unknowns in these equations are the values of U at each grid point, with i and j ranging from 0 to 9. The boundary conditions are set such that the potential at the boundary points is assumed to be zero. Solving this system of linear equations allows us to obtain the numerical values of U at all grid points, representing the electric potential within the system."
   ]
  },
  {
   "cell_type": "markdown",
   "id": "3d6611a0",
   "metadata": {},
   "source": [
    "### Implementation\n",
    "We write down the collection of all variables $U_{i,j}$ as a single vector by flattening the $U$ matrix into one dimension, and making the correct matrix elements to be 1 or -4 such that we get the same set of equations as in the discretized Poisson Equation.\n",
    "\n",
    "Here's what flattening a $2 \\times 2$ square matrix looks like:\n",
    "\n",
    "$$\\begin{bmatrix}\n",
    "a_{11} & a_{12} \\\\\n",
    "a_{21} & a_{22}\n",
    "\\end{bmatrix} \\quad \\underrightarrow{\\text{flatten}} \\quad \n",
    "\\begin{bmatrix}\n",
    "a_{11}  \\\\\n",
    "a_{12} \\\\\n",
    "a_{21} \\\\\n",
    "a_{22} \\\\\n",
    "\\end{bmatrix}\n",
    "$$\n",
    "Thus, we get the matrix equation\n",
    "$$M U_{flat} = -\\rho_{flat}$$\n",
    "Where $M$ is the Matrix constructed for the Laplacian Operator $\\nabla^2 = \\frac{\\partial^2}{\\partial x^2} + \\frac{\\partial^2}{\\partial y^2} + \\frac{\\partial^2}{\\partial z^2}$, and $U_{flat}$, $\\rho_{flat}$ are the flattened vectors of $U$, $\\rho$\n",
    "\n",
    "We get $U_{flat}$ by solving this system of linear equations, and finally, get $U$ by reshaping $U_{flat}$ back into a square grid."
   ]
  },
  {
   "cell_type": "markdown",
   "id": "3c6bba98",
   "metadata": {},
   "source": [
    "**Example:** Consider a 3x3 grid of points (so the flattened $U$ and $\\rho$ vectors have 9 elements). Write the Poisson equation as a matrix equation, with $\\rho = 1$ at the central point and 0 elsewhere.\n",
    "$$ \\begin{bmatrix}\n",
    "-4 & 1 & 0 & 1 & 0 & 0 & 0 & 0 & 0\\\\\n",
    "1 & -4 & 1 & 0 & 1 & 0 & 0 & 0 & 0\\\\\n",
    "0 & 1 & -4 & 0 & 0 & 1 & 0 & 0 & 0\\\\\n",
    "1 & 0 & 0 & -4 & 1 & 0 & 1 & 0 & 0\\\\\n",
    "0 & 1 & 0 & 1 & -4 & 1 & 0 & 1 & 0\\\\\n",
    "0 & 0 & 1 & 0 & 1 & -4 & 0 & 0 & 1\\\\\n",
    "0 & 0 & 0 & 1 & 0 & 0 & -4 & 1 & 0\\\\\n",
    "0 & 0 & 0 & 0 & 1 & 0 & 1 & -4 & 1\\\\\n",
    "0 & 0 & 0 & 0 & 0 & 1 & 0 & 1 & -4\\\\\n",
    "\\end{bmatrix}\n",
    "\\begin{bmatrix}\n",
    "U_{11} \\\\ U_{12} \\\\ U_{13} \\\\\n",
    "U_{21} \\\\ U_{22} \\\\ U_{23} \\\\\n",
    "U_{31} \\\\ U_{32} \\\\ U_{33}\n",
    "\\end{bmatrix} = \n",
    "(-\\Delta i \\Delta j)\\begin{bmatrix}\n",
    "0 \\\\ 0 \\\\ 0 \\\\ 0 \\\\ 1 \\\\ 0 \\\\ 0 \\\\ 0 \\\\ 0\n",
    "\\end{bmatrix}$$\n",
    "\n",
    "**Source:** [Wikipedia](https://en.wikipedia.org/wiki/Discrete_Poisson_equation)"
   ]
  },
  {
   "cell_type": "code",
   "execution_count": 1,
   "id": "0ed6645c",
   "metadata": {},
   "outputs": [
    {
     "name": "stderr",
     "output_type": "stream",
     "text": [
      "Matplotlib is building the font cache; this may take a moment.\n"
     ]
    }
   ],
   "source": [
    "import numpy as np\n",
    "import pandas as pd\n",
    "import matplotlib.pyplot as plt"
   ]
  },
  {
   "cell_type": "code",
   "execution_count": 2,
   "id": "623b1053",
   "metadata": {},
   "outputs": [],
   "source": [
    "N = 100\n",
    "#define our N x N charge distribution grid\n",
    "cd_grid = np.zeros(shape=(N,N))\n",
    "\n",
    "#set boundary charge distribution; you can set it to anything you want\n",
    "cd_grid[N//2 + 10,N//2] = 1\n",
    "cd_grid[N//2 - 10,N//2] = -1\n",
    "\n",
    "cd_grid[0,:] = 1\n",
    "cd_grid[-1,:] = -1"
   ]
  },
  {
   "cell_type": "code",
   "execution_count": 3,
   "id": "370015bd",
   "metadata": {},
   "outputs": [
    {
     "data": {
      "image/png": "[encoded data removed]",
      "text/plain": [
       "<Figure size 640x480 with 2 Axes>"
      ]
     },
     "metadata": {},
     "output_type": "display_data"
    }
   ],
   "source": [
    "#show the charge distribution grid before we start\n",
    "plt.imshow(cd_grid, cmap='jet', interpolation='nearest')\n",
    "plt.colorbar()\n",
    "plt.show()"
   ]
  },
  {
   "cell_type": "code",
   "execution_count": 4,
   "id": "a055dc3c",
   "metadata": {},
   "outputs": [],
   "source": [
    "#flatten the charge distribution grid into 1 dimension\n",
    "cd_flat = cd_grid.flatten()\n",
    "\n",
    "#now, we will define the operator matrix\n",
    "operator = np.zeros((N**2,N**2))\n",
    "\n",
    "#we will implement the Laplacian operator in matrix form\n",
    "def make_laplacian_operator(myoperator):\n",
    "  \"\"\" input: myoperator, a N**2 x N**2 matrix with all it's elements zero\n",
    "\n",
    "      output: a N**2 x N**2 matrix with its element values such that\n",
    "      the U_flat vector, when matrix multiplied by the operator,\n",
    "      gives us the left hand sides of the set of equations\n",
    "      (one for each value of i, j) in the discrete Poisson equation .\n",
    "  \"\"\"\n",
    "  for i in range(N**2):  # nested for loop to iterate over all the elements\n",
    "    for j in range(N**2):\n",
    "      if i == j:\n",
    "        myoperator[i, j] = -4  # Diagonal elements\n",
    "      elif (j == i + 1 and (i+1) % N != 0) or (j == i - 1 and i % N != 0):\n",
    "        myoperator[i, j] = 1  # Elements corresponding to adjacent grid points\n",
    "      elif j == i + N or j == i - N:\n",
    "        myoperator[i, j] = 1  # Elements corresponding to adjacent grid points\n",
    "      else:\n",
    "        myoperator[i, j] = 0  # All other elements   \n",
    "    \n",
    "  return myoperator\n",
    "\n",
    "#apply this function\n",
    "operator = make_laplacian_operator(operator)"
   ]
  },
  {
   "cell_type": "markdown",
   "id": "0d0a09c6",
   "metadata": {},
   "source": [
    "Now that we have converted our differential equation into a matrix equation, all that remains is to solve the matrix equation, which is \n",
    "\n",
    "$$M U_{flat} = -\\rho_{flat}$$\n",
    "\n",
    "where $M$ is your ```operator``` matrix, and $\\rho_{flat}$ is just ```cd_flat```. You need to obtain $U_{flat}$ by solving this matrix equation, which is just a system of linear equations where the variables are the elements of $U_{flat}$."
   ]
  },
  {
   "cell_type": "code",
   "execution_count": 5,
   "id": "b2a4cdbb",
   "metadata": {},
   "outputs": [],
   "source": [
    "def solve_system_lineq(operator, cd_flat):\n",
    "  \"\"\"inputs:\n",
    "      operator, an N**2 x N**2 matrix\n",
    "      cd_flat, a vector of length N**2\n",
    "\n",
    "     output:\n",
    "      U_flat, a vector of length N**2 which is the solution to the linear system of equations -\n",
    "      operator @ U_flat = cd_flat, where @ denotes matrix multiplication\n",
    "  \"\"\"\n",
    "\n",
    "  U_flat = np.zeros(N**2)  # Initial guess for U_flat\n",
    "  max_iterations = 1000  # Maximum number of iterations\n",
    "  tolerance = 1e-6  # Tolerance for convergence\n",
    "\n",
    "  for _ in range(max_iterations):\n",
    "        delta = 0  # Variable to track the maximum difference in each iteration\n",
    "        for i in range(N**2):\n",
    "            old_value = U_flat[i]  # Store the previous value of U_flat[i]\n",
    "            sum1 = np.dot(operator[i, :i], U_flat[:i])\n",
    "            sum2 = np.dot(operator[i, i + 1:], U_flat[i + 1:])\n",
    "            U_flat[i] = (cd_flat[i] - sum1 - sum2) / operator[i, i]\n",
    "            diff = abs(U_flat[i] - old_value)  # Calculate the difference\n",
    "            if diff > delta:\n",
    "                delta = diff  # Update the maximum difference\n",
    "        if delta < tolerance:\n",
    "            break\n",
    "  return U_flat\n",
    "\n",
    "#apply this function\n",
    "solution = solve_system_lineq(operator, cd_flat)"
   ]
  },
  {
   "cell_type": "code",
   "execution_count": 6,
   "id": "09a2dfc4",
   "metadata": {},
   "outputs": [],
   "source": [
    "#reshape U_flat into U\n",
    "U = solution.reshape((N,N))"
   ]
  },
  {
   "cell_type": "code",
   "execution_count": 7,
   "id": "9fa79a42",
   "metadata": {},
   "outputs": [
    {
     "data": {
      "image/png": "[encoded data removed]",
      "text/plain": [
       "<Figure size 640x480 with 2 Axes>"
      ]
     },
     "metadata": {},
     "output_type": "display_data"
    }
   ],
   "source": [
    "#display the solution U\n",
    "plt.imshow(U, cmap='jet', interpolation='nearest')\n",
    "plt.colorbar()\n",
    "plt.show()"
   ]
  },
  {
   "cell_type": "markdown",
   "id": "635d506f",
   "metadata": {},
   "source": [
    "## Optimization"
   ]
  },
  {
   "cell_type": "markdown",
   "id": "e08f59d6",
   "metadata": {},
   "source": [
    "In particular, a serious problem with the implementation above is that it wastes a LOT of memory; for N = 100, your operator matrix is of the size 10^4 x 10^4 i.e 10^8 elements, most of which are zero.\n",
    "\n",
    "The implementation below avoid this wasted space by using sparse matrices instead of \"normal\" matrices. Sparse matrices cleverly store only the nonzero matrix elements to save space. Also, we are solving the system of linear equations using the function scipy.spsolve (the equivalent for 'normal' matrices is np.linalg.solve). These optimizations enable you to use N = 1000 or beyond, which would require a ridiculous amount of time and memory in your previous implementation!"
   ]
  },
  {
   "cell_type": "code",
   "execution_count": null,
   "id": "f498a4b3",
   "metadata": {},
   "outputs": [],
   "source": [
    "#we can significantly free up memory and speed up by using a sparse matrix, which is space efficient for matrices with a large number of zero elements\n",
    "from scipy.sparse import lil_matrix, csr_matrix #lil_matrix is a sparse matrix format that allows for efficient matrix modifications\n",
    "from scipy.sparse.linalg import spsolve\n",
    "\n",
    "\n",
    "N = 1000\n",
    "#define our N x N condition grid\n",
    "cd_grid = np.zeros(shape=(N,N))\n",
    "\n",
    "#set charge distribution\n",
    "cd_grid[0,:] = 1\n",
    "cd_grid[-1,:] = -1\n",
    "cd_grid[:,0] = 1\n",
    "cd_grid[:,-1] = -1\n",
    "\n",
    "cd_flat = cd_grid.flatten()\n",
    "\n",
    "\n",
    "operator_sparse = lil_matrix((N**2,N**2))\n",
    "operator_sparse = make_laplacian_operator(operator_sparse)"
   ]
  },
  {
   "cell_type": "code",
   "execution_count": null,
   "id": "a361c0b5",
   "metadata": {},
   "outputs": [],
   "source": [
    "#we obtain the solution by inverting the operator matrix\n",
    "solution_sparse = spsolve(operator_sparse.tocsr(), cd_flat) # spsolve works with csr_matrix and not lil_matrix\n",
    "\n",
    "#we reshape the solution\n",
    "U_sparse = solution_sparse.reshape((N,N))\n",
    "\n",
    "#display the solution U\n",
    "plt.imshow(U_sparse, cmap='jet', interpolation='nearest')\n",
    "plt.colorbar()\n",
    "plt.show()"
   ]
  },
  {
   "cell_type": "code",
   "execution_count": null,
   "id": "5bfc7681",
   "metadata": {},
   "outputs": [],
   "source": [
    "# let us wrap everything neatly into a function that takes in the Charge Distribution and returns the solution\n",
    "# let's also make it so that we can choose between the sparse and non-sparse solution\n",
    "\n",
    "def Poisson_solver_nosparse(cd_grid):\n",
    "    N = cd_grid.shape[0]\n",
    "    cd_flat = cd_grid.flatten()\n",
    "    operator = make_laplacian_operator(np.zeros((N**2,N**2)))\n",
    "    solution = solve_system_lineq(operator, cd_flat)\n",
    "    U = solution.reshape((N,N))\n",
    "    return U\n",
    "\n",
    "def Poisson_solver_sparse(cd_grid):\n",
    "    N = cd_grid.shape[0]\n",
    "    cd_flat = cd_grid.flatten()\n",
    "    operator_sparse = make_laplacian_operator(lil_matrix((N**2,N**2)))\n",
    "    solution_sparse = spsolve(operator_sparse.tocsr(), -cd_flat) #you can look up scipy.sparse.linalg.spsolve for more details\n",
    "    U_sparse = solution_sparse.reshape((N,N))\n",
    "    return U_sparse\n",
    "\n",
    "def Poisson_solver(cd_grid, sparse=True):\n",
    "    if sparse:\n",
    "        return Poisson_solver_sparse(cd_grid)\n",
    "    else:\n",
    "        return Poisson_solver_nosparse(cd_grid)\n",
    "\n",
    "#also let us wrap the plotting into a function\n",
    "def plot_solution(U, cmap='jet'):\n",
    "    plt.imshow(U, cmap=cmap, interpolation='nearest')\n",
    "    plt.colorbar()\n",
    "    plt.show()"
   ]
  },
  {
   "cell_type": "code",
   "execution_count": null,
   "id": "006a69d5",
   "metadata": {},
   "outputs": [],
   "source": [
    "#let's try out implementation on a bunch of interesting charge distributions\n",
    "N = 100\n",
    "#simulating two point charges\n",
    "cd_grid = np.zeros(shape=(N,N))\n",
    "cd_grid[N//2,N//2 - 10] = 1\n",
    "cd_grid[N//2,N//2 + 10] = 1\n",
    "U = Poisson_solver(cd_grid)"
   ]
  },
  {
   "cell_type": "code",
   "execution_count": null,
   "id": "c6157913",
   "metadata": {},
   "outputs": [],
   "source": [
    "#here's the charge distribution plot\n",
    "plot_solution(cd_grid)\n",
    "#here's the solution plot\n",
    "plot_solution(U)"
   ]
  },
  {
   "cell_type": "code",
   "execution_count": null,
   "id": "883b95e7",
   "metadata": {},
   "outputs": [],
   "source": [
    "#charge distribution simulating a dipole\n",
    "cd_grid = np.zeros(shape=(N,N))\n",
    "cd_grid[N//2,N//2 - 5] = 10000\n",
    "cd_grid[N//2,N//2 + 5] = -10000\n",
    "U = Poisson_solver(cd_grid)"
   ]
  },
  {
   "cell_type": "code",
   "execution_count": null,
   "id": "d0e18b91",
   "metadata": {},
   "outputs": [],
   "source": [
    "#here's the charge distribution plot\n",
    "plot_solution(cd_grid)\n",
    "\n",
    "#here's the solution plot\n",
    "plot_solution(U)"
   ]
  },
  {
   "cell_type": "code",
   "execution_count": null,
   "id": "fbea1b9e",
   "metadata": {},
   "outputs": [],
   "source": [
    "#simulating a 2 point charges and a two charged plates\n",
    "N = 100\n",
    "\n",
    "cd_grid = np.zeros(shape=(N,N))\n",
    "cd_grid[N//2 + 10,N//2] = 1\n",
    "cd_grid[N//2 - 10,N//2] = -1\n",
    "\n",
    "cd_grid[0,:] = 1\n",
    "cd_grid[-1,:] = -1\n",
    "\n",
    "U = Poisson_solver(cd_grid)\n",
    "plot_solution(cd_grid)\n",
    "plot_solution(U)"
   ]
  },
  {
   "cell_type": "code",
   "execution_count": null,
   "id": "cc9a42c7",
   "metadata": {},
   "outputs": [],
   "source": [
    "plot_solution(U, 'inferno') #looks epic!"
   ]
  },
  {
   "cell_type": "code",
   "execution_count": null,
   "id": "116d7d75",
   "metadata": {},
   "outputs": [],
   "source": [
    "cd_grid = np.zeros(shape=(N,N))\n",
    "cd_grid[N//3:2*N//3,N//3] = 1\n",
    "cd_grid[N//3:2*N//3,2*N//3] = -1\n",
    "\n",
    "U = Poisson_solver(cd_grid)\n",
    "\n",
    "plot_solution(cd_grid, 'inferno')\n",
    "plot_solution(U, 'inferno')"
   ]
  },
  {
   "cell_type": "code",
   "execution_count": null,
   "id": "a1c79106",
   "metadata": {},
   "outputs": [],
   "source": []
  },
  {
   "cell_type": "code",
   "execution_count": null,
   "id": "c4383418",
   "metadata": {},
   "outputs": [],
   "source": []
  },
  {
   "cell_type": "code",
   "execution_count": null,
   "id": "4a5412af",
   "metadata": {},
   "outputs": [],
   "source": []
  }
 ],
 "metadata": {
  "kernelspec": {
   "display_name": "conda_python3",
   "language": "python",
   "name": "conda_python3"
  },
  "language_info": {
   "codemirror_mode": {
    "name": "ipython",
    "version": 3
   },
   "file_extension": ".py",
   "mimetype": "text/x-python",
   "name": "python",
   "nbconvert_exporter": "python",
   "pygments_lexer": "ipython3",
   "version": "3.10.8"
  }
 },
 "nbformat": 4,
 "nbformat_minor": 5
}
